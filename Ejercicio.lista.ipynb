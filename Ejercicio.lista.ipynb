{
 "cells": [
  {
   "cell_type": "code",
   "execution_count": null,
   "metadata": {},
   "outputs": [],
   "source": [
    "class TiendaOnline:\n",
    "    def __init__(self, nombre):\n",
    "        self.nombre = nombre\n",
    "        self.inventario = []  \n",
    "        self.ventas = 0.0\n",
    "\n",
    "    def agregar_producto(self, nombre, precio, cantidad):\n",
    "        for producto in self.inventario:\n",
    "            if producto[\"nombre\"].lower() == nombre.lower():\n",
    "                producto[\"cantidad\"] += cantidad\n",
    "                print(f\"Se actualizó la cantidad de {nombre}\")\n",
    "                return\n",
    "        nuevo_producto = {\n",
    "            \"nombre\": nombre,\n",
    "            \"precio\": precio,\n",
    "            \"cantidad\": cantidad\n",
    "        }\n",
    "        self.inventario.append(nuevo_producto)\n",
    "\n",
    "    def ver_inventario(self):\n",
    "        for producto in self.inventario:\n",
    "            print(f\"Nombre: {producto['nombre']}, Precio: ${producto['precio']}, Cantidad: {producto['cantidad']}\")\n",
    "\n",
    "    def buscar_producto(self, nombre):\n",
    "        for producto in self.inventario:\n",
    "            if producto[\"nombre\"].lower() == nombre.lower():\n",
    "                print(f\"Nombre: {producto['nombre']}, Precio: ${producto['precio']}, Cantidad: {producto['cantidad']}\")\n",
    "                return\n",
    "        print(\"El producto no existe en el inventario.\")\n",
    "\n",
    "    def actualizar_stock(self, nombre):\n",
    "        for producto in self.inventario:\n",
    "            if producto[\"nombre\"].lower() == nombre.lower():\n",
    "                cantidad_str = input(f\"Introduce la cantidad a agregar o quitar para '{nombre}': \")\n",
    "                try:\n",
    "                    cantidad = int(cantidad_str)\n",
    "                    producto[\"cantidad\"] += cantidad\n",
    "                    print(f\"Stock de {nombre} actualizado. Cantidad actual: {producto['cantidad']}\")\n",
    "                except ValueError:\n",
    "                    print(\"Entrada inválida. Debes introducir un número entero.\")\n",
    "                return\n",
    "        print(f\"El producto '{nombre}' no está en el inventario.\")\n",
    "\n",
    "    def eliminar_producto(self, nombre):\n",
    "        # Solicitar confirmación antes de eliminar\n",
    "        opcion = input(f\"¿Desea eliminar el producto '{nombre}'? Escriba 'salir' para no eliminar nada, pulse enter para eliminar producto: \")\n",
    "        if opcion.lower() == \"salir\":\n",
    "            print(\"Operación cancelada. No se eliminará el producto.\")\n",
    "            return\n",
    "        \n",
    "        for producto in self.inventario:\n",
    "            if producto[\"nombre\"].lower() == nombre.lower():\n",
    "                self.inventario.remove(producto)\n",
    "                print(f\"Producto '{nombre}' eliminado correctamente.\")\n",
    "                return\n",
    "        print(f\"Producto '{nombre}' no está en el inventario.\")\n",
    "\n",
    "    def calcular_valor_inventario(self):\n",
    "        valor_total = 0.0\n",
    "        for producto in self.inventario:\n",
    "            valor_total += producto[\"precio\"] * producto[\"cantidad\"]\n",
    "        print(f\"El valor total del inventario es: ${valor_total}\")\n",
    "        return valor_total\n"
   ]
  },
  {
   "cell_type": "code",
   "execution_count": 43,
   "metadata": {},
   "outputs": [],
   "source": [
    "# Ejemplo de uso: Le damos nombre a nuestra clase en este caso nuestra\n",
    "mi_tienda = TiendaOnline(\"TiendaPythonLista\")"
   ]
  },
  {
   "cell_type": "code",
   "execution_count": 44,
   "metadata": {},
   "outputs": [],
   "source": [
    "#Procedo a ir llamando a las funciones \n",
    "\n",
    "#Agregamos productos al inventario\n",
    "\n",
    "mi_tienda.agregar_producto(\"Mouse\", 10, 80)\n",
    "mi_tienda.agregar_producto(\"Ordenador\", 700, 40)\n",
    "mi_tienda.agregar_producto(\"Pantalla\", 70, 50)"
   ]
  },
  {
   "cell_type": "code",
   "execution_count": 45,
   "metadata": {},
   "outputs": [],
   "source": [
    "mi_tienda.agregar_producto(\"hdmi\",5,15)"
   ]
  },
  {
   "cell_type": "code",
   "execution_count": 46,
   "metadata": {},
   "outputs": [
    {
     "name": "stdout",
     "output_type": "stream",
     "text": [
      "Nombre: Mouse, Precio: $10, Cantidad: 80\n",
      "Nombre: Ordenador, Precio: $700, Cantidad: 40\n",
      "Nombre: Pantalla, Precio: $70, Cantidad: 50\n",
      "Nombre: hdmi, Precio: $5, Cantidad: 15\n"
     ]
    }
   ],
   "source": [
    "# Ver el inventario\n",
    "mi_tienda.ver_inventario()"
   ]
  },
  {
   "cell_type": "code",
   "execution_count": 47,
   "metadata": {},
   "outputs": [
    {
     "name": "stdout",
     "output_type": "stream",
     "text": [
      "Nombre: Ordenador, Precio: $700, Cantidad: 40\n"
     ]
    }
   ],
   "source": [
    "# Buscar un producto existente\n",
    "mi_tienda.buscar_producto(\"Ordenador\")"
   ]
  },
  {
   "cell_type": "code",
   "execution_count": 48,
   "metadata": {},
   "outputs": [
    {
     "name": "stdout",
     "output_type": "stream",
     "text": [
      "Stock de Mouse actualizado. Cantidad actual: 79\n"
     ]
    }
   ],
   "source": [
    "# Actualizar stock de un producto según entrada del usuario\n",
    "mi_tienda.actualizar_stock(\"Mouse\")\n"
   ]
  },
  {
   "cell_type": "code",
   "execution_count": 49,
   "metadata": {},
   "outputs": [
    {
     "name": "stdout",
     "output_type": "stream",
     "text": [
      "Nombre: Mouse, Precio: $10, Cantidad: 79\n",
      "Nombre: Ordenador, Precio: $700, Cantidad: 40\n",
      "Nombre: Pantalla, Precio: $70, Cantidad: 50\n",
      "Nombre: hdmi, Precio: $5, Cantidad: 15\n"
     ]
    }
   ],
   "source": [
    "# Podemos volver ver el inventario para comprobar que se han hecho los cambios \n",
    "mi_tienda.ver_inventario()"
   ]
  },
  {
   "cell_type": "code",
   "execution_count": 51,
   "metadata": {},
   "outputs": [
    {
     "name": "stdout",
     "output_type": "stream",
     "text": [
      "Producto 'Mouse' eliminado correctamente.\n"
     ]
    }
   ],
   "source": [
    "# Eliminar un producto pulsando enter o escribimos \"Salir\" para no eliminar nada\n",
    "mi_tienda.eliminar_producto(\"Mouse\")"
   ]
  },
  {
   "cell_type": "code",
   "execution_count": 52,
   "metadata": {},
   "outputs": [
    {
     "name": "stdout",
     "output_type": "stream",
     "text": [
      "Nombre: Ordenador, Precio: $700, Cantidad: 40\n",
      "Nombre: Pantalla, Precio: $70, Cantidad: 50\n",
      "Nombre: hdmi, Precio: $5, Cantidad: 15\n"
     ]
    }
   ],
   "source": [
    "# Volver a ver inventario para comprobar la eliminación\n",
    "mi_tienda.ver_inventario()"
   ]
  },
  {
   "cell_type": "code",
   "execution_count": 53,
   "metadata": {},
   "outputs": [
    {
     "name": "stdout",
     "output_type": "stream",
     "text": [
      "El valor total del inventario es: $31575.0\n"
     ]
    },
    {
     "data": {
      "text/plain": [
       "31575.0"
      ]
     },
     "execution_count": 53,
     "metadata": {},
     "output_type": "execute_result"
    }
   ],
   "source": [
    "# Calcular el valor total del inventario\n",
    "mi_tienda.calcular_valor_inventario()"
   ]
  }
 ],
 "metadata": {
  "kernelspec": {
   "display_name": "base",
   "language": "python",
   "name": "python3"
  },
  "language_info": {
   "codemirror_mode": {
    "name": "ipython",
    "version": 3
   },
   "file_extension": ".py",
   "mimetype": "text/x-python",
   "name": "python",
   "nbconvert_exporter": "python",
   "pygments_lexer": "ipython3",
   "version": "3.12.7"
  }
 },
 "nbformat": 4,
 "nbformat_minor": 2
}
